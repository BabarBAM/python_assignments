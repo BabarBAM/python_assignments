{
 "cells": [
  {
   "cell_type": "code",
   "execution_count": 1,
   "metadata": {},
   "outputs": [
    {
     "name": "stdout",
     "output_type": "stream",
     "text": [
      "CALCULATOR\n",
      "Enter 1st value = 5\n",
      "Enter 2nd value = 12\n",
      "operator = *\n",
      "5 * 12 = 60\n"
     ]
    }
   ],
   "source": [
    "print('CALCULATOR')\n",
    "\n",
    "#take two inputs values\n",
    "a=int(input(\"Enter 1st value = \"))\n",
    "b=int(input(\"Enter 2nd value = \"))\n",
    "\n",
    "#take input of operator\n",
    "c=input(\"operator = \")\n",
    "\n",
    "#conditions perform according to user input\n",
    "if c == '+':\n",
    "    print(str(a) + ' + ' + str(b) + ' = ' + str(a+b) )\n",
    "\n",
    "elif c == '-':\n",
    "    print(str(a) + ' - ' + str(b) + ' = ' + str(a-b) )\n",
    "    \n",
    "elif c == '*':\n",
    "    print(str(a) + ' * ' + str(b) + ' = ' + str(a*b) )\n",
    "    \n",
    "elif c == '/':\n",
    "    print(str(a) + ' / ' + str(b) + ' = ' + str(a/b) )\n",
    "        "
   ]
  },
  {
   "cell_type": "code",
   "execution_count": null,
   "metadata": {},
   "outputs": [],
   "source": []
  },
  {
   "cell_type": "code",
   "execution_count": null,
   "metadata": {},
   "outputs": [],
   "source": []
  }
 ],
 "metadata": {
  "kernelspec": {
   "display_name": "Python 3",
   "language": "python",
   "name": "python3"
  },
  "language_info": {
   "codemirror_mode": {
    "name": "ipython",
    "version": 3
   },
   "file_extension": ".py",
   "mimetype": "text/x-python",
   "name": "python",
   "nbconvert_exporter": "python",
   "pygments_lexer": "ipython3",
   "version": "3.7.1"
  }
 },
 "nbformat": 4,
 "nbformat_minor": 2
}
