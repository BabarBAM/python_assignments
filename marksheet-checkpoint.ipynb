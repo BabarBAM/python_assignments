{
 "cells": [
  {
   "cell_type": "code",
   "execution_count": null,
   "metadata": {},
   "outputs": [],
   "source": []
  },
  {
   "cell_type": "code",
   "execution_count": 19,
   "metadata": {},
   "outputs": [
    {
     "name": "stdout",
     "output_type": "stream",
     "text": [
      "<------------------MARKSHEET------------------>\n",
      "Enter your Industrial electronics Marks = 88\n",
      "Enter your Robotics Marks               = 77\n",
      "Enter your Micro-controller Marks       = 55\n",
      "Enter your Ethics Marks                 = 66\n",
      "Your Percentage = 71.5\n",
      "Your Grade is B\n"
     ]
    }
   ],
   "source": [
    "print('<------------------MARKSHEET------------------>')\n",
    "\n",
    "#take two inputs values\n",
    "a=int(input(\"Enter your Industrial electronics Marks = \"))\n",
    "b=int(input(\"Enter your Robotics Marks               = \"))\n",
    "c=int(input(\"Enter your Micro-controller Marks       = \"))\n",
    "d=int(input(\"Enter your Ethics Marks                 = \"))\n",
    "\n",
    "#take input of operator\n",
    "total = ((a+b+c+d)/400)*100\n",
    "print('Your Percentage = ' + str(total))\n",
    "\n",
    "#conditions perform according to user input\n",
    "if (total >=80):\n",
    "    print('Your Grade is A+')\n",
    "\n",
    "elif (total >=70 and total <= 80):\n",
    "    print('Your Grade is A')\n",
    "    \n",
    "elif (total >=60 and total <= 70):\n",
    "    print('Your Grade is B')\n",
    "    \n",
    "elif (total >=50 and total <= 60):\n",
    "    print('Your Grade is C')\n",
    "        \n",
    "else:\n",
    "    print('failed')"
   ]
  },
  {
   "cell_type": "code",
   "execution_count": null,
   "metadata": {},
   "outputs": [],
   "source": []
  },
  {
   "cell_type": "code",
   "execution_count": null,
   "metadata": {},
   "outputs": [],
   "source": []
  },
  {
   "cell_type": "code",
   "execution_count": null,
   "metadata": {},
   "outputs": [],
   "source": []
  }
 ],
 "metadata": {
  "kernelspec": {
   "display_name": "Python 3",
   "language": "python",
   "name": "python3"
  },
  "language_info": {
   "codemirror_mode": {
    "name": "ipython",
    "version": 3
   },
   "file_extension": ".py",
   "mimetype": "text/x-python",
   "name": "python",
   "nbconvert_exporter": "python",
   "pygments_lexer": "ipython3",
   "version": "3.7.1"
  }
 },
 "nbformat": 4,
 "nbformat_minor": 2
}
